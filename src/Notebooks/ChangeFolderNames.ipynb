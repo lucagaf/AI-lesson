{
 "cells": [
  {
   "cell_type": "code",
   "id": "initial_id",
   "metadata": {
    "collapsed": true,
    "ExecuteTime": {
     "end_time": "2025-06-17T21:34:01.948822Z",
     "start_time": "2025-06-17T21:34:01.943753Z"
    }
   },
   "source": "translate = {\"cane\": \"dog\", \"cavallo\": \"horse\", \"elefante\": \"elephant\", \"farfalla\": \"butterfly\", \"gallina\": \"chicken\", \"gatto\": \"cat\", \"mucca\": \"cow\", \"pecora\": \"sheep\", \"scoiattolo\": \"squirrel\", \"dog\": \"cane\", \"cavallo\": \"horse\", \"elephant\" : \"elefante\", \"butterfly\": \"farfalla\", \"chicken\": \"gallina\", \"cat\": \"gatto\", \"cow\": \"mucca\", \"spider\": \"ragno\", \"squirrel\": \"scoiattolo\"}",
   "outputs": [],
   "execution_count": 1
  },
  {
   "metadata": {
    "ExecuteTime": {
     "end_time": "2025-06-17T21:34:02.109208Z",
     "start_time": "2025-06-17T21:34:02.107010Z"
    }
   },
   "cell_type": "code",
   "source": [
    "for key, value in translate.items():\n",
    "    print(f\"'{key}': '{value}',\")"
   ],
   "id": "8a58617227f68462",
   "outputs": [
    {
     "name": "stdout",
     "output_type": "stream",
     "text": [
      "'cane': 'dog',\n",
      "'cavallo': 'horse',\n",
      "'elefante': 'elephant',\n",
      "'farfalla': 'butterfly',\n",
      "'gallina': 'chicken',\n",
      "'gatto': 'cat',\n",
      "'mucca': 'cow',\n",
      "'pecora': 'sheep',\n",
      "'scoiattolo': 'squirrel',\n",
      "'dog': 'cane',\n",
      "'elephant': 'elefante',\n",
      "'butterfly': 'farfalla',\n",
      "'chicken': 'gallina',\n",
      "'cat': 'gatto',\n",
      "'cow': 'mucca',\n",
      "'spider': 'ragno',\n",
      "'squirrel': 'scoiattolo',\n"
     ]
    }
   ],
   "execution_count": 2
  },
  {
   "metadata": {
    "ExecuteTime": {
     "end_time": "2025-06-17T21:34:09.280921Z",
     "start_time": "2025-06-17T21:34:09.261044Z"
    }
   },
   "cell_type": "code",
   "source": [
    "import os\n",
    "\n",
    "base_path = \"../Data/raw_img\"\n",
    "\n",
    "folders = [f for f in os.listdir(\"../Data/raw_img\") if f not in [\".DS_Store\", \"Thumbs.db\"]]\n",
    "for folder in os.listdir(base_path):\n",
    "    folder_path = os.path.join(base_path, folder)\n",
    "    if os.path.isdir(folder_path) and folder in translate:\n",
    "        new_name = translate[folder]\n",
    "        new_path = os.path.join(base_path, new_name)\n",
    "        os.rename(folder_path, new_path)\n",
    "        print(f\"Renamed: {folder} -> {new_name}\")\n"
   ],
   "id": "727c5b81fc95f6e9",
   "outputs": [
    {
     "name": "stdout",
     "output_type": "stream",
     "text": [
      "Renamed: gallina -> chicken\n",
      "Renamed: gatto -> cat\n",
      "Renamed: farfalla -> butterfly\n",
      "Renamed: mucca -> cow\n",
      "Renamed: cavallo -> horse\n",
      "Renamed: cane -> dog\n",
      "Renamed: pecora -> sheep\n",
      "Renamed: scoiattolo -> squirrel\n",
      "Renamed: elefante -> elephant\n"
     ]
    }
   ],
   "execution_count": 3
  },
  {
   "metadata": {},
   "cell_type": "code",
   "outputs": [],
   "execution_count": null,
   "source": "",
   "id": "df8fdbb9331b2913"
  }
 ],
 "metadata": {
  "kernelspec": {
   "display_name": "Python 3",
   "language": "python",
   "name": "python3"
  },
  "language_info": {
   "codemirror_mode": {
    "name": "ipython",
    "version": 2
   },
   "file_extension": ".py",
   "mimetype": "text/x-python",
   "name": "python",
   "nbconvert_exporter": "python",
   "pygments_lexer": "ipython2",
   "version": "2.7.6"
  }
 },
 "nbformat": 4,
 "nbformat_minor": 5
}
