{
 "cells": [
  {
   "metadata": {},
   "cell_type": "markdown",
   "source": [
    "# Prepare Dataset\n",
    "In this notebook, how can prepare the dataset and decide which data to provide to the students and how much data to provide."
   ],
   "id": "1e63f14cd42aaffa"
  },
  {
   "metadata": {
    "ExecuteTime": {
     "end_time": "2025-06-09T20:07:28.094778Z",
     "start_time": "2025-06-09T20:07:28.091337Z"
    }
   },
   "cell_type": "code",
   "source": [
    "# Hyperparamters to control the dataset size\n",
    "\n",
    "# Random, stratified sampled from all the available animals\n",
    "# To provide to students as a starting point\n",
    "AMOUNT_OF_EXAMPLES_PER_CLASS = 10\n",
    "AMOUNT_OF_VALIDATION_DATA = 10\n",
    "\n",
    "# Test Data to be kept private, not to be provided to students\n",
    "AMOUNT_IN_TEST_DATA = 10\n",
    "BASE_PATH = \"../Data/raw-img\"\n",
    "\n",
    "ANIMALS =[\n",
    "    \"dog\",\n",
    "    \"horse\",\n",
    "    \"chicken\",\n",
    "    \"cat\",\n",
    "    \"cow\",\n",
    "    #\"sheep\",\n",
    "    #\"squirrel\",\n",
    "    #\"spider\",\n",
    "    # \"elephant\",\n",
    "    #\"butterfly\",\n",
    "]"
   ],
   "id": "60b081d82a5c16f",
   "outputs": [],
   "execution_count": 32
  },
  {
   "metadata": {
    "ExecuteTime": {
     "end_time": "2025-06-09T20:07:28.620449Z",
     "start_time": "2025-06-09T20:07:28.617909Z"
    }
   },
   "cell_type": "code",
   "source": [
    "import os\n",
    "import random\n",
    "import shutil\n",
    "from typing import Sequence, List\n",
    "random.seed(42)"
   ],
   "id": "7d06b6124f06abe0",
   "outputs": [],
   "execution_count": 33
  },
  {
   "metadata": {
    "ExecuteTime": {
     "end_time": "2025-06-09T20:07:29.193608Z",
     "start_time": "2025-06-09T20:07:29.187892Z"
    }
   },
   "cell_type": "code",
   "source": [
    "def sample_and_move_images(\n",
    "    animals: List[str],\n",
    "    base_path: str,\n",
    "    destination: str,\n",
    "    images_per_class: int,\n",
    "    subfolder:bool,\n",
    "    extensions: Sequence[str] = (\"jpg\", \"jpeg\", \"png\"),\n",
    ") -> None:\n",
    "    \"\"\"\n",
    "    For each folder name in `animals`, randomly select up to `images_per_class`\n",
    "    image files (with the given extensions) from `base_path/<folder>` and move\n",
    "    them into `test_path`, renaming them as <folder>_0.jpg, <folder>_1.png, etc.\n",
    "\n",
    "    Args:\n",
    "        animals: List of folder names under base_path.\n",
    "        base_path: Path where the animal subfolders live.\n",
    "        test_path: Path where sampled images will be moved to. Must exist.\n",
    "        images_per_class: Max number of images to sample per folder.\n",
    "        extensions: Tuple of allowed file extensions (without leading dot).\n",
    "    \"\"\"\n",
    "    # Ensure destination exists\n",
    "\n",
    "    os.makedirs(destination, exist_ok=True)\n",
    "\n",
    "\n",
    "    for animal in animals:\n",
    "        source_path = os.path.join(base_path, animal)\n",
    "        os.makedirs(test_path, exist_ok=True)\n",
    "        if not os.path.isdir(source_path):\n",
    "            print(f\"Warning: {source_path} is not a directory; skipping.\")\n",
    "            continue\n",
    "\n",
    "        # Gather eligible images\n",
    "        images = [\n",
    "            fname for fname in os.listdir(source_path)\n",
    "            if not fname.startswith(\".\")\n",
    "            and fname.lower().split(\".\")[-1] in extensions\n",
    "        ]\n",
    "\n",
    "        counter = 0\n",
    "        while counter < images_per_class and images:\n",
    "            image = random.choice(images)\n",
    "            ext = image.split('.')[-1]\n",
    "            new_name = f\"{animal}_{counter}.{ext}\"\n",
    "            src = os.path.join(source_path, image)\n",
    "            # If subfolder is True, create a subfolder for the animal\n",
    "            if subfolder:\n",
    "                destination_path = os.path.join(destination, animal)\n",
    "                os.makedirs(destination_path, exist_ok=True)\n",
    "            else:\n",
    "                destination_path = destination\n",
    "            dst = os.path.join(destination_path, new_name)\n",
    "\n",
    "            shutil.move(src, dst)\n",
    "            print(f\"Moved {image!r} → {new_name!r}\")\n",
    "\n",
    "            # Remove from list so we don't pick it again\n",
    "            images.remove(image)\n",
    "            counter += 1"
   ],
   "id": "e0d847836bb62257",
   "outputs": [],
   "execution_count": 34
  },
  {
   "metadata": {},
   "cell_type": "markdown",
   "source": "## Create TEST Dataset",
   "id": "f4d0cf925d1c0dd1"
  },
  {
   "metadata": {
    "ExecuteTime": {
     "end_time": "2025-06-09T20:07:31.575464Z",
     "start_time": "2025-06-09T20:07:31.550618Z"
    }
   },
   "cell_type": "code",
   "source": [
    "test_path =\"..//Data/Test\"\n",
    "\n",
    "sample_and_move_images(\n",
    "    animals=ANIMALS,\n",
    "    base_path=BASE_PATH,\n",
    "    destination = test_path,\n",
    "    images_per_class=AMOUNT_IN_TEST_DATA // len(ANIMALS),\n",
    "    subfolder=False,\n",
    ")"
   ],
   "id": "d4056edbcd52fea4",
   "outputs": [
    {
     "name": "stdout",
     "output_type": "stream",
     "text": [
      "Moved 'OIP-s6RuEQ5WQQAh9iINw_vCKQHaFj.jpeg' → 'dog_0.jpeg'\n",
      "Moved 'OIP-aD_7tN6EN8qfm9-faP0nbwHaE6.jpeg' → 'dog_1.jpeg'\n",
      "Moved 'OIP-uxBktynkw_ukhvOnAejv8QHaFj.jpeg' → 'horse_0.jpeg'\n",
      "Moved 'OIP-40XQTcNoQ1lH32aB59RFvgHaE7.jpeg' → 'horse_1.jpeg'\n",
      "Moved 'OIP-uXM1HPppDRdmKZX3EYdkygHaFj.jpeg' → 'chicken_0.jpeg'\n",
      "Moved '145.jpeg' → 'chicken_1.jpeg'\n",
      "Moved '805.jpeg' → 'cat_0.jpeg'\n",
      "Moved '611.jpeg' → 'cat_1.jpeg'\n",
      "Moved 'OIP-4Zc7xV1V9dEJrUzVSq7JvQHaIk.jpeg' → 'cow_0.jpeg'\n",
      "Moved 'OIP-f1R9xCcC4M_hYpc8L7MghAHaFj.jpeg' → 'cow_1.jpeg'\n"
     ]
    }
   ],
   "execution_count": 35
  },
  {
   "metadata": {},
   "cell_type": "markdown",
   "source": "## Create VALIDATION Dataset",
   "id": "b43764990fdd1f81"
  },
  {
   "metadata": {
    "ExecuteTime": {
     "end_time": "2025-06-09T20:07:34.429972Z",
     "start_time": "2025-06-09T20:07:34.406016Z"
    }
   },
   "cell_type": "code",
   "source": [
    "valid_path =\"..//Data/Valid\"\n",
    "sample_and_move_images(\n",
    "    animals=ANIMALS,\n",
    "    base_path=BASE_PATH,\n",
    "    destination = valid_path,\n",
    "    images_per_class=AMOUNT_IN_TEST_DATA // len(ANIMALS),\n",
    "    subfolder=False,\n",
    ")"
   ],
   "id": "21761f354354b694",
   "outputs": [
    {
     "name": "stdout",
     "output_type": "stream",
     "text": [
      "Moved 'OIP-UkAzb9xfX1SpwvKb_ZgLZAHaFx.jpeg' → 'dog_0.jpeg'\n",
      "Moved 'OIP-4bHDx3ENWf1QTaBQj7daeQHaEj.jpeg' → 'dog_1.jpeg'\n",
      "Moved 'OIP-r-4qYCR_JgaxD7I3zoAgHAHaFj.jpeg' → 'horse_0.jpeg'\n",
      "Moved 'OIP-vBTeKD_GydkSvocdbYdG8gHaFk.jpeg' → 'horse_1.jpeg'\n",
      "Moved 'OIP-XQeEQoiBI0tibMSlreS5-gHaE7.jpeg' → 'chicken_0.jpeg'\n",
      "Moved 'OIP-qh2QBHLMG3phTcdiW9lLcQHaE4.jpeg' → 'chicken_1.jpeg'\n",
      "Moved '979.jpeg' → 'cat_0.jpeg'\n",
      "Moved '1198.jpeg' → 'cat_1.jpeg'\n",
      "Moved 'OIP-7RwhPPot3bDbuJa1xQBU1gHaEK.jpeg' → 'cow_0.jpeg'\n",
      "Moved 'OIP-fbg6olyclASFKumUwW-bmwHaEs.jpeg' → 'cow_1.jpeg'\n"
     ]
    }
   ],
   "execution_count": 36
  },
  {
   "metadata": {},
   "cell_type": "markdown",
   "source": "## Create TRAIN Dataset",
   "id": "cc4aac41387fcb38"
  },
  {
   "metadata": {
    "ExecuteTime": {
     "end_time": "2025-06-09T20:07:36.412018Z",
     "start_time": "2025-06-09T20:07:36.387517Z"
    }
   },
   "cell_type": "code",
   "source": [
    "train_path =\"..//Data/Train\"\n",
    "\n",
    "sample_and_move_images(\n",
    "    animals=ANIMALS,\n",
    "    base_path=BASE_PATH,\n",
    "    destination = train_path,\n",
    "    images_per_class=AMOUNT_IN_TEST_DATA // len(ANIMALS),\n",
    "    subfolder=True,\n",
    ")"
   ],
   "id": "ead590f7f050c229",
   "outputs": [
    {
     "name": "stdout",
     "output_type": "stream",
     "text": [
      "Moved 'OIP-DEhqfvk3r-UQ2oz9-_i0jQHaHT.jpeg' → 'dog_0.jpeg'\n",
      "Moved 'OIP-UCflrJiqkoD00zNEKbHsIgHaGh.jpeg' → 'dog_1.jpeg'\n",
      "Moved 'OIP-jYyfJL5-pGI20j_11QfeYQHaF1.jpeg' → 'horse_0.jpeg'\n",
      "Moved 'OIP-hf1qPQr7IqjbRI63b8YZuQHaFC.jpeg' → 'horse_1.jpeg'\n",
      "Moved '1026.jpeg' → 'chicken_0.jpeg'\n",
      "Moved '969.jpeg' → 'chicken_1.jpeg'\n",
      "Moved '1821.jpeg' → 'cat_0.jpeg'\n",
      "Moved '1725.jpeg' → 'cat_1.jpeg'\n",
      "Moved 'OIP-BAyeHLQ1evDYMI9cGdAr3gAAAA.jpeg' → 'cow_0.jpeg'\n",
      "Moved 'OIP-gHzcYfh3aJLrXaKtuDEjpQHaGa.jpeg' → 'cow_1.jpeg'\n"
     ]
    }
   ],
   "execution_count": 37
  },
  {
   "metadata": {},
   "cell_type": "code",
   "outputs": [],
   "execution_count": null,
   "source": "",
   "id": "9099126baa77f78"
  }
 ],
 "metadata": {
  "kernelspec": {
   "display_name": "Python 3",
   "language": "python",
   "name": "python3"
  },
  "language_info": {
   "codemirror_mode": {
    "name": "ipython",
    "version": 2
   },
   "file_extension": ".py",
   "mimetype": "text/x-python",
   "name": "python",
   "nbconvert_exporter": "python",
   "pygments_lexer": "ipython2",
   "version": "2.7.6"
  }
 },
 "nbformat": 4,
 "nbformat_minor": 5
}
