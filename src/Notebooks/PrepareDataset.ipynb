{
 "cells": [
  {
   "metadata": {},
   "cell_type": "markdown",
   "source": [
    "# Prepare Dataset\n",
    "In this notebook, how can prepare the dataset and decide which data to provide to the students and how much data to provide."
   ],
   "id": "1e63f14cd42aaffa"
  },
  {
   "metadata": {
    "ExecuteTime": {
     "end_time": "2025-06-08T19:50:38.075476Z",
     "start_time": "2025-06-08T19:50:38.072276Z"
    }
   },
   "cell_type": "code",
   "source": [
    "# Hyperparamters to control the dataset size\n",
    "AMOUNT_OF_EXAMPLES_PER_CLASS = 10\n",
    "AMOUNT_OF_VALIDATION_DATA = 10 # Random sampled from all the available animals\n",
    "AMOUNT_IN_TEST_DATA = 1000 # Random sampled from all the available animals\n",
    "\n",
    "\n",
    "ANIMALS =[\n",
    "    \"dog\",\n",
    "    \"horse\",\n",
    "    \"chicken\",\n",
    "    \"cat\",\n",
    "    \"cow\",\n",
    "    #\"sheep\",\n",
    "    #\"squirrel\",\n",
    "    #\"spider\",\n",
    "    # \"elephant\",\n",
    "    #\"butterfly\",\n",
    "]"
   ],
   "id": "60b081d82a5c16f",
   "outputs": [],
   "execution_count": 8
  },
  {
   "metadata": {
    "ExecuteTime": {
     "end_time": "2025-06-08T19:49:50.698027Z",
     "start_time": "2025-06-08T19:49:50.691977Z"
    }
   },
   "cell_type": "code",
   "source": [
    "import os\n",
    "import random"
   ],
   "id": "7d06b6124f06abe0",
   "outputs": [],
   "execution_count": 6
  },
  {
   "metadata": {},
   "cell_type": "markdown",
   "source": "## Create TEST Dataset",
   "id": "f4d0cf925d1c0dd1"
  },
  {
   "metadata": {
    "ExecuteTime": {
     "end_time": "2025-06-08T19:54:13.950635Z",
     "start_time": "2025-06-08T19:54:13.900753Z"
    }
   },
   "cell_type": "code",
   "source": [
    "base_path = \"../Data/raw-img\"\n",
    "test_path =\"..//Data/Test\"\n",
    "\n",
    "images_per_class = AMOUNT_IN_TEST_DATA // len(ANIMALS)\n",
    "counter = 0\n",
    "\n",
    "images_per_class = 2 # For testing purposes, set to 2\n",
    "\n",
    "\n",
    "for folder in ANIMALS:\n",
    "    folder_path = os.path.join(base_path, folder)\n",
    "    images = [f for f in os.listdir(folder_path) if f.endswith(('jpg', \"jpeg\", \"png\")) and not f.startswith('.')]\n",
    "    while counter < images_per_class:\n",
    "        if len(images) == 0:\n",
    "            break\n",
    "        image = random.choice(images)\n",
    "        src = os.path.join(folder_path, image)\n",
    "        dst = os.path.join(test_path, folder, image)\n",
    "\n",
    "        print(image)\n",
    "        counter += 1\n"
   ],
   "id": "d4056edbcd52fea4",
   "outputs": [
    {
     "name": "stdout",
     "output_type": "stream",
     "text": [
      "<class 'str'>\n",
      "OIP-Z1OtjJRkDg9mB4Z04lY3FwHaHa.jpeg\n",
      "OIP-lSVgTbFImJ9CJLqW1Qy7IgHaJE.jpeg\n",
      "<class 'str'>\n",
      "<class 'str'>\n",
      "<class 'str'>\n",
      "<class 'str'>\n"
     ]
    }
   ],
   "execution_count": 14
  },
  {
   "metadata": {},
   "cell_type": "code",
   "outputs": [],
   "execution_count": null,
   "source": "",
   "id": "21761f354354b694"
  }
 ],
 "metadata": {
  "kernelspec": {
   "display_name": "Python 3",
   "language": "python",
   "name": "python3"
  },
  "language_info": {
   "codemirror_mode": {
    "name": "ipython",
    "version": 2
   },
   "file_extension": ".py",
   "mimetype": "text/x-python",
   "name": "python",
   "nbconvert_exporter": "python",
   "pygments_lexer": "ipython2",
   "version": "2.7.6"
  }
 },
 "nbformat": 4,
 "nbformat_minor": 5
}
